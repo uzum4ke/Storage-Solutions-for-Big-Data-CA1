{
 "cells": [
  {
   "cell_type": "code",
   "execution_count": 1,
   "metadata": {},
   "outputs": [
    {
     "ename": "ModuleNotFoundError",
     "evalue": "No module named 'pyspark'",
     "output_type": "error",
     "traceback": [
      "\u001b[1;31m---------------------------------------------------------------------------\u001b[0m",
      "\u001b[1;31mModuleNotFoundError\u001b[0m                       Traceback (most recent call last)",
      "Cell \u001b[1;32mIn[1], line 1\u001b[0m\n\u001b[1;32m----> 1\u001b[0m \u001b[38;5;28;01mfrom\u001b[39;00m \u001b[38;5;21;01mpyspark\u001b[39;00m\u001b[38;5;21;01m.\u001b[39;00m\u001b[38;5;21;01msql\u001b[39;00m \u001b[38;5;28;01mimport\u001b[39;00m SparkSession\n\u001b[0;32m      2\u001b[0m \u001b[38;5;28;01mfrom\u001b[39;00m \u001b[38;5;21;01mpyspark\u001b[39;00m\u001b[38;5;21;01m.\u001b[39;00m\u001b[38;5;21;01msql\u001b[39;00m\u001b[38;5;21;01m.\u001b[39;00m\u001b[38;5;21;01mfunctions\u001b[39;00m \u001b[38;5;28;01mimport\u001b[39;00m col\n\u001b[0;32m      3\u001b[0m \u001b[38;5;28;01mimport\u001b[39;00m \u001b[38;5;21;01mnumpy\u001b[39;00m \u001b[38;5;28;01mas\u001b[39;00m \u001b[38;5;21;01mnp\u001b[39;00m\n",
      "\u001b[1;31mModuleNotFoundError\u001b[0m: No module named 'pyspark'"
     ]
    }
   ],
   "source": [
    "from pyspark.sql import SparkSession\n",
    "from pyspark.sql.functions import col\n",
    "import numpy as np"
   ]
  },
  {
   "cell_type": "code",
   "execution_count": 8,
   "metadata": {},
   "outputs": [
    {
     "name": "stdout",
     "output_type": "stream",
     "text": [
      "^C\n"
     ]
    }
   ],
   "source": [
    "!pip install pyspark"
   ]
  },
  {
   "cell_type": "code",
   "execution_count": 2,
   "metadata": {},
   "outputs": [],
   "source": [
    "def initialize_spark_session():\n",
    "    \"\"\"\n",
    "    Initialize and return a Spark session.\n",
    "    \"\"\"\n",
    "    return SparkSession.builder \\\n",
    "        .appName(\"LEMON Dataset Analysis\") \\\n",
    "        .config(\"spark.some.config.option\", \"some-value\") \\\n",
    "        .getOrCreate()"
   ]
  },
  {
   "cell_type": "code",
   "execution_count": 3,
   "metadata": {},
   "outputs": [],
   "source": [
    "def load_data(spark, data_path):\n",
    "    \"\"\"\n",
    "    Load EEG data into a Spark DataFrame.\n",
    "    \"\"\"\n",
    "    # Assuming EEG data is in a CSV or Parquet format\n",
    "    return spark.read.format(\"csv\").option(\"header\", \"true\").load(data_path)"
   ]
  },
  {
   "cell_type": "code",
   "execution_count": 4,
   "metadata": {},
   "outputs": [],
   "source": [
    "def preprocess_data(df):\n",
    "    \"\"\"\n",
    "    Preprocess EEG data (e.g., normalization, filtering).\n",
    "    \"\"\"\n",
    "    # Example: Normalize EEG signal data\n",
    "    # This is a placeholder for actual preprocessing logic\n",
    "    return df.select([(col(c) - df.agg({c: \"mean\"}).collect()[0][0]) / df.agg({c: \"stddev\"}).collect()[0][0] for c in df.columns])"
   ]
  },
  {
   "cell_type": "code",
   "execution_count": 5,
   "metadata": {},
   "outputs": [],
   "source": [
    "def transform_to_features(df):\n",
    "    \"\"\"\n",
    "    Transform EEG data into features suitable for analysis or ML models.\n",
    "    \"\"\"\n",
    "    # Placeholder for feature extraction logic\n",
    "    return df"
   ]
  },
  {
   "cell_type": "code",
   "execution_count": 6,
   "metadata": {},
   "outputs": [],
   "source": [
    "def store_data_in_nosql(df, nosql_client):\n",
    "    \"\"\"\n",
    "    Store processed data into a NoSQL database.\n",
    "    \"\"\"\n",
    "    # Convert Spark DataFrame to Pandas DataFrame for easier handling with MongoDB/Cassandra\n",
    "    pandas_df = df.toPandas()\n",
    "    \n",
    "    # Example for MongoDB\n",
    "    nosql_client.mydatabase.my_collection.insert_many(pandas_df.to_dict('records'))"
   ]
  },
  {
   "cell_type": "code",
   "execution_count": 7,
   "metadata": {},
   "outputs": [],
   "source": [
    "def main():\n",
    "    spark = initialize_spark_session()\n",
    "    data_path = \"/path/to/your/eeg/data.csv\"\n",
    "    nosql_client = pymongo.MongoClient(\"mongodb://localhost:27017/\")\n",
    "\n",
    "    # Load data\n",
    "    df = load_data(spark, data_path)\n",
    "    \n",
    "    # Preprocess data\n",
    "    processed_df = preprocess_data(df)\n",
    "    \n",
    "    # Feature transformation\n",
    "    feature_df = transform_to_features(processed_df)\n",
    "    \n",
    "    # Store in NoSQL\n",
    "    store_data_in_nosql(feature_df, nosql_client)\n",
    "\n",
    "    spark.stop()"
   ]
  },
  {
   "cell_type": "code",
   "execution_count": null,
   "metadata": {},
   "outputs": [],
   "source": []
  }
 ],
 "metadata": {
  "kernelspec": {
   "display_name": "Python 3",
   "language": "python",
   "name": "python3"
  },
  "language_info": {
   "codemirror_mode": {
    "name": "ipython",
    "version": 3
   },
   "file_extension": ".py",
   "mimetype": "text/x-python",
   "name": "python",
   "nbconvert_exporter": "python",
   "pygments_lexer": "ipython3",
   "version": "3.10.10"
  }
 },
 "nbformat": 4,
 "nbformat_minor": 2
}

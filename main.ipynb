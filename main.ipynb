{
 "cells": [
  {
   "cell_type": "code",
   "execution_count": 25,
   "metadata": {},
   "outputs": [],
   "source": [
    "import os\n",
    "\n",
    "import pandas as pd\n",
    "\n",
    "import yfinance as yf\n",
    "from datetime import datetime, timedelta\n",
    "\n",
    "from tqdm import tqdm"
   ]
  },
  {
   "cell_type": "code",
   "execution_count": 19,
   "metadata": {},
   "outputs": [],
   "source": [
    "# Load ticker symbols from nasdaq screener csv file\n",
    "def load_tickers(filepath):\n",
    "    df = pd.read_csv(filepath)\n",
    "    return df.iloc[:, 0].tolist()"
   ]
  },
  {
   "cell_type": "code",
   "execution_count": 20,
   "metadata": {},
   "outputs": [],
   "source": [
    "# Fetch historical data for a given ticker\n",
    "def fetch_stock_data(ticker):\n",
    "    # Calculate the date 10 years ago from today\n",
    "    end_date = datetime.now()\n",
    "    start_date = end_date - timedelta(days=365*10)\n",
    "    \n",
    "    # Fetch historical data\n",
    "    data = yf.download(ticker, start=start_date.strftime('%Y-%m-%d'), end=end_date.strftime('%Y-%m-%d'))\n",
    "    return data"
   ]
  },
  {
   "cell_type": "code",
   "execution_count": 26,
   "metadata": {},
   "outputs": [
    {
     "name": "stderr",
     "output_type": "stream",
     "text": [
      "  0%|          | 0/7070 [00:00<?, ?it/s]"
     ]
    },
    {
     "name": "stdout",
     "output_type": "stream",
     "text": [
      "Fetching data for: A\n",
      "[*********************100%***********************]  1 of 1 completed"
     ]
    },
    {
     "name": "stderr",
     "output_type": "stream",
     "text": [
      "  0%|          | 1/7070 [00:00<18:37,  6.33it/s]"
     ]
    },
    {
     "name": "stdout",
     "output_type": "stream",
     "text": [
      "\n",
      "Failed to fetch data for A: 'A'\n",
      "Fetching data for: AA\n",
      "[*********************100%***********************]  1 of 1 completed\n",
      "Failed to fetch data for AA: 'AA'\n",
      "Fetching data for: AACG\n",
      "[*********************100%***********************]  1 of 1 completed"
     ]
    },
    {
     "name": "stderr",
     "output_type": "stream",
     "text": [
      "  0%|          | 3/7070 [00:00<09:40, 12.18it/s]"
     ]
    },
    {
     "name": "stdout",
     "output_type": "stream",
     "text": [
      "\n",
      "Failed to fetch data for AACG: 'AACG'\n",
      "Fetching data for: AACI\n",
      "[*********************100%***********************]  1 of 1 completed\n",
      "Failed to fetch data for AACI: 'AACI'\n",
      "Fetching data for: AACIW\n",
      "[*********************100%***********************]  1 of 1 completed"
     ]
    },
    {
     "name": "stderr",
     "output_type": "stream",
     "text": [
      "  0%|          | 5/7070 [00:00<08:41, 13.56it/s]"
     ]
    },
    {
     "name": "stdout",
     "output_type": "stream",
     "text": [
      "\n",
      "Failed to fetch data for AACIW: 'AACIW'\n",
      "Fetching data for: AACT\n",
      "[*********************100%***********************]  1 of 1 completed\n",
      "Failed to fetch data for AACT: 'AACT'\n",
      "Fetching data for: AADI\n",
      "[*********************100%***********************]  1 of 1 completed"
     ]
    },
    {
     "name": "stderr",
     "output_type": "stream",
     "text": [
      "  0%|          | 7/7070 [00:00<09:36, 12.25it/s]"
     ]
    },
    {
     "name": "stdout",
     "output_type": "stream",
     "text": [
      "\n",
      "Failed to fetch data for AADI: 'AADI'\n",
      "Fetching data for: AAGR\n",
      "[*********************100%***********************]  1 of 1 completed\n",
      "Failed to fetch data for AAGR: 'AAGR'\n",
      "Fetching data for: AAGRW\n",
      "[*********************100%***********************]  1 of 1 completed\n",
      "Failed to fetch data for AAGRW: 'AAGRW'\n",
      "Fetching data for: AAL\n",
      "[*********************100%***********************]  1 of 1 completed\n",
      "Failed to fetch data for AAL: 'AAL'\n",
      "Fetching data for: AAMC\n",
      "[*********************100%***********************]  1 of 1 completed"
     ]
    },
    {
     "name": "stderr",
     "output_type": "stream",
     "text": [
      "  0%|          | 11/7070 [00:00<06:31, 18.02it/s]"
     ]
    },
    {
     "name": "stdout",
     "output_type": "stream",
     "text": [
      "\n",
      "Failed to fetch data for AAMC: 'AAMC'\n",
      "Fetching data for: AAME\n",
      "[*********************100%***********************]  1 of 1 completed\n",
      "Failed to fetch data for AAME: 'AAME'\n",
      "Fetching data for: AAN\n",
      "[*********************100%***********************]  1 of 1 completed\n",
      "Failed to fetch data for AAN: 'AAN'\n",
      "Fetching data for: AAOI\n",
      "[*********************100%***********************]  1 of 1 completed\n",
      "Failed to fetch data for AAOI: 'AAOI'\n",
      "Fetching data for: AAON\n",
      "[*********************100%***********************]  1 of 1 completed"
     ]
    },
    {
     "name": "stderr",
     "output_type": "stream",
     "text": [
      "  0%|          | 15/7070 [00:00<05:51, 20.05it/s]"
     ]
    },
    {
     "name": "stdout",
     "output_type": "stream",
     "text": [
      "\n",
      "Failed to fetch data for AAON: 'AAON'\n",
      "Fetching data for: AAP\n",
      "[*********************100%***********************]  1 of 1 completed\n",
      "Failed to fetch data for AAP: 'AAP'\n",
      "Fetching data for: AAPL\n",
      "[*********************100%***********************]  1 of 1 completed\n",
      "Failed to fetch data for AAPL: 'AAPL'\n",
      "Fetching data for: AAT\n",
      "[*********************100%***********************]  1 of 1 completed"
     ]
    },
    {
     "name": "stderr",
     "output_type": "stream",
     "text": [
      "  0%|          | 18/7070 [00:01<05:23, 21.80it/s]"
     ]
    },
    {
     "name": "stdout",
     "output_type": "stream",
     "text": [
      "\n",
      "Failed to fetch data for AAT: 'AAT'\n",
      "Fetching data for: AB\n",
      "[*********************100%***********************]  1 of 1 completed\n",
      "Failed to fetch data for AB: 'AB'\n",
      "Fetching data for: ABAT\n",
      "[*********************100%***********************]  1 of 1 completed\n",
      "Failed to fetch data for ABAT: 'ABAT'\n",
      "Fetching data for: ABBV\n",
      "[*********************100%***********************]  1 of 1 completed"
     ]
    },
    {
     "name": "stderr",
     "output_type": "stream",
     "text": [
      "  0%|          | 21/7070 [00:01<05:43, 20.51it/s]"
     ]
    },
    {
     "name": "stdout",
     "output_type": "stream",
     "text": [
      "\n",
      "Failed to fetch data for ABBV: 'ABBV'\n",
      "Fetching data for: ABCB\n",
      "[*********************100%***********************]  1 of 1 completed\n",
      "Failed to fetch data for ABCB: 'ABCB'\n",
      "Fetching data for: ABCL\n",
      "[*********************100%***********************]  1 of 1 completed\n",
      "Failed to fetch data for ABCL: 'ABCL'\n",
      "Fetching data for: ABEO\n",
      "[*********************100%***********************]  1 of 1 completed"
     ]
    },
    {
     "name": "stderr",
     "output_type": "stream",
     "text": [
      "  0%|          | 24/7070 [00:01<06:27, 18.20it/s]"
     ]
    },
    {
     "name": "stdout",
     "output_type": "stream",
     "text": [
      "\n",
      "Failed to fetch data for ABEO: 'ABEO'\n",
      "Fetching data for: ABEV\n",
      "[*********************100%***********************]  1 of 1 completed\n",
      "\n",
      "1 Failed download:\n",
      "- CRD/A: No timezone found, symbol may be delisted\n",
      "Failed to fetch data for ABEV: 'ABEV'\n",
      "Fetching data for: ABG\n",
      "[*********************100%***********************]  1 of 1 completed"
     ]
    },
    {
     "name": "stderr",
     "output_type": "stream",
     "text": [
      "  0%|          | 26/7070 [00:01<07:10, 16.35it/s]"
     ]
    },
    {
     "name": "stdout",
     "output_type": "stream",
     "text": [
      "\n",
      "Failed to fetch data for ABG: 'ABG'\n",
      "Fetching data for: ABIO\n",
      "[*********************100%***********************]  1 of 1 completed\n",
      "Failed to fetch data for ABIO: 'ABIO'\n",
      "Fetching data for: ABL\n",
      "[*********************100%***********************]  1 of 1 completed\n",
      "Failed to fetch data for ABL: 'ABL'\n",
      "Fetching data for: ABLLL\n",
      "[*********************100%***********************]  1 of 1 completed"
     ]
    },
    {
     "name": "stderr",
     "output_type": "stream",
     "text": [
      "  0%|          | 29/7070 [00:01<06:29, 18.08it/s]"
     ]
    },
    {
     "name": "stdout",
     "output_type": "stream",
     "text": [
      "\n",
      "Failed to fetch data for ABLLL: 'ABLLL'\n",
      "Fetching data for: ABLLW\n",
      "[*********************100%***********************]  1 of 1 completed\n",
      "Failed to fetch data for ABLLW: 'ABLLW'\n",
      "Fetching data for: ABLV\n",
      "[*********************100%***********************]  1 of 1 completed\n",
      "Failed to fetch data for ABLV: 'ABLV'\n",
      "Fetching data for: ABLVW\n",
      "[*********************100%***********************]  1 of 1 completed"
     ]
    },
    {
     "name": "stderr",
     "output_type": "stream",
     "text": [
      "  0%|          | 32/7070 [00:01<06:07, 19.14it/s]"
     ]
    },
    {
     "name": "stdout",
     "output_type": "stream",
     "text": [
      "\n",
      "Failed to fetch data for ABLVW: 'ABLVW'\n",
      "Fetching data for: ABM\n",
      "[*********************100%***********************]  1 of 1 completed\n",
      "Failed to fetch data for ABM: 'ABM'\n",
      "Fetching data for: ABNB\n",
      "[*********************100%***********************]  1 of 1 completed"
     ]
    },
    {
     "name": "stderr",
     "output_type": "stream",
     "text": [
      "  0%|          | 34/7070 [00:01<06:19, 18.56it/s]"
     ]
    },
    {
     "name": "stdout",
     "output_type": "stream",
     "text": [
      "\n",
      "Failed to fetch data for ABNB: 'ABNB'\n",
      "Fetching data for: ABOS\n",
      "[*********************100%***********************]  1 of 1 completed\n",
      "Failed to fetch data for ABOS: 'ABOS'\n",
      "Fetching data for: ABR\n",
      "[*********************100%***********************]  1 of 1 completed"
     ]
    },
    {
     "name": "stderr",
     "output_type": "stream",
     "text": [
      "  1%|          | 36/7070 [00:02<06:14, 18.79it/s]"
     ]
    },
    {
     "name": "stdout",
     "output_type": "stream",
     "text": [
      "\n",
      "Failed to fetch data for ABR: 'ABR'\n",
      "Fetching data for: ABR^D\n",
      "[*********************100%***********************]  1 of 1 completed\n",
      "Failed to fetch data for ABR^D: 'ABR^D'\n",
      "Fetching data for: ABR^E\n",
      "[*********************100%***********************]  1 of 1 completed"
     ]
    },
    {
     "name": "stderr",
     "output_type": "stream",
     "text": [
      "  1%|          | 38/7070 [00:02<07:39, 15.29it/s]"
     ]
    },
    {
     "name": "stdout",
     "output_type": "stream",
     "text": [
      "\n",
      "Failed to fetch data for ABR^E: 'ABR^E'\n",
      "Fetching data for: ABR^F\n",
      "[*********************100%***********************]  1 of 1 completed\n",
      "Failed to fetch data for ABR^F: 'ABR^F'\n",
      "Fetching data for: ABSI\n",
      "[*********************100%***********************]  1 of 1 completed"
     ]
    },
    {
     "name": "stderr",
     "output_type": "stream",
     "text": [
      "  1%|          | 40/7070 [00:02<08:03, 14.53it/s]"
     ]
    },
    {
     "name": "stdout",
     "output_type": "stream",
     "text": [
      "\n",
      "Failed to fetch data for ABSI: 'ABSI'\n",
      "Fetching data for: ABT\n",
      "[*********************100%***********************]  1 of 1 completed\n",
      "Failed to fetch data for ABT: 'ABT'\n",
      "Fetching data for: ABTS\n",
      "[*********************100%***********************]  1 of 1 completed"
     ]
    },
    {
     "name": "stderr",
     "output_type": "stream",
     "text": [
      "  1%|          | 42/7070 [00:02<07:51, 14.92it/s]"
     ]
    },
    {
     "name": "stdout",
     "output_type": "stream",
     "text": [
      "\n",
      "Failed to fetch data for ABTS: 'ABTS'\n",
      "Fetching data for: ABUS\n",
      "[*********************100%***********************]  1 of 1 completed\n",
      "Failed to fetch data for ABUS: 'ABUS'\n",
      "Fetching data for: ABVC\n",
      "[*********************100%***********************]  1 of 1 completed"
     ]
    },
    {
     "name": "stderr",
     "output_type": "stream",
     "text": [
      "  1%|          | 44/7070 [00:02<08:02, 14.57it/s]"
     ]
    },
    {
     "name": "stdout",
     "output_type": "stream",
     "text": [
      "\n",
      "Failed to fetch data for ABVC: 'ABVC'\n",
      "Fetching data for: ABVX\n",
      "[*********************100%***********************]  1 of 1 completed\n",
      "Failed to fetch data for ABVX: 'ABVX'\n",
      "Fetching data for: AC\n",
      "[*********************100%***********************]  1 of 1 completed"
     ]
    },
    {
     "name": "stderr",
     "output_type": "stream",
     "text": [
      "  1%|          | 46/7070 [00:02<08:09, 14.34it/s]"
     ]
    },
    {
     "name": "stdout",
     "output_type": "stream",
     "text": [
      "\n",
      "Failed to fetch data for AC: 'AC'\n",
      "Fetching data for: ACA\n",
      "[*********************100%***********************]  1 of 1 completed\n",
      "Failed to fetch data for ACA: 'ACA'\n",
      "Fetching data for: ACAB\n",
      "[*********************100%***********************]  1 of 1 completed\n",
      "\n",
      "3 Failed downloads:\n",
      "- ABR^D: No timezone found, symbol may be delisted\n",
      "- ABR^E: No timezone found, symbol may be delisted\n",
      "- ABR^F: No timezone found, symbol may be delisted\n",
      "Failed to fetch data for ACAB: 'ACAB'\n",
      "Fetching data for: ACABW\n",
      "[*********************100%***********************]  1 of 1 completed"
     ]
    },
    {
     "name": "stderr",
     "output_type": "stream",
     "text": [
      "  1%|          | 49/7070 [00:02<06:53, 16.97it/s]"
     ]
    },
    {
     "name": "stdout",
     "output_type": "stream",
     "text": [
      "\n",
      "Failed to fetch data for ACABW: 'ACABW'\n",
      "Fetching data for: ACAC\n",
      "[*********************100%***********************]  1 of 1 completed\n",
      "Failed to fetch data for ACAC: 'ACAC'\n",
      "Fetching data for: ACACU\n",
      "[*********************100%***********************]  1 of 1 completed"
     ]
    },
    {
     "name": "stderr",
     "output_type": "stream",
     "text": [
      "  1%|          | 51/7070 [00:03<07:13, 16.21it/s]"
     ]
    },
    {
     "name": "stdout",
     "output_type": "stream",
     "text": [
      "\n",
      "Failed to fetch data for ACACU: 'ACACU'\n",
      "Fetching data for: ACACW\n",
      "[*********************100%***********************]  1 of 1 completed\n",
      "Failed to fetch data for ACACW: 'ACACW'\n",
      "Fetching data for: ACAD\n",
      "[*********************100%***********************]  1 of 1 completed\n",
      "Failed to fetch data for ACAD: 'ACAD'\n",
      "Fetching data for: ACB\n",
      "[*********************100%***********************]  1 of 1 completed"
     ]
    },
    {
     "name": "stderr",
     "output_type": "stream",
     "text": [
      "  1%|          | 54/7070 [00:03<06:21, 18.40it/s]"
     ]
    },
    {
     "name": "stdout",
     "output_type": "stream",
     "text": [
      "\n",
      "Failed to fetch data for ACB: 'ACB'\n",
      "Fetching data for: ACBA\n",
      "[*********************100%***********************]  1 of 1 completed\n",
      "Failed to fetch data for ACBA: 'ACBA'\n",
      "Fetching data for: ACCD\n",
      "[*********************100%***********************]  1 of 1 completed"
     ]
    },
    {
     "name": "stderr",
     "output_type": "stream",
     "text": [
      "  1%|          | 56/7070 [00:03<06:32, 17.87it/s]"
     ]
    },
    {
     "name": "stdout",
     "output_type": "stream",
     "text": [
      "\n",
      "Failed to fetch data for ACCD: 'ACCD'\n",
      "Fetching data for: ACCO\n",
      "[*********************100%***********************]  1 of 1 completed\n",
      "Failed to fetch data for ACCO: 'ACCO'\n",
      "Fetching data for: ACDC\n",
      "[*********************100%***********************]  1 of 1 completed"
     ]
    },
    {
     "name": "stderr",
     "output_type": "stream",
     "text": [
      "  1%|          | 58/7070 [00:03<06:43, 17.39it/s]"
     ]
    },
    {
     "name": "stdout",
     "output_type": "stream",
     "text": [
      "\n",
      "Failed to fetch data for ACDC: 'ACDC'\n",
      "Fetching data for: ACEL\n",
      "[*********************100%***********************]  1 of 1 completed\n",
      "Failed to fetch data for ACEL: 'ACEL'\n",
      "Fetching data for: ACET\n",
      "[*********************100%***********************]  1 of 1 completed"
     ]
    },
    {
     "name": "stderr",
     "output_type": "stream",
     "text": [
      "  1%|          | 60/7070 [00:03<06:47, 17.21it/s]"
     ]
    },
    {
     "name": "stdout",
     "output_type": "stream",
     "text": [
      "\n",
      "Failed to fetch data for ACET: 'ACET'\n",
      "Fetching data for: ACGL\n",
      "[*********************100%***********************]  1 of 1 completed\n",
      "Failed to fetch data for ACGL: 'ACGL'\n",
      "Fetching data for: ACGLN\n",
      "[*********************100%***********************]  1 of 1 completed"
     ]
    },
    {
     "name": "stderr",
     "output_type": "stream",
     "text": [
      "  1%|          | 62/7070 [00:03<06:37, 17.61it/s]"
     ]
    },
    {
     "name": "stdout",
     "output_type": "stream",
     "text": [
      "\n",
      "Failed to fetch data for ACGLN: 'ACGLN'\n",
      "Fetching data for: ACGLO\n",
      "[*********************100%***********************]  1 of 1 completed\n",
      "Failed to fetch data for ACGLO: 'ACGLO'\n",
      "Fetching data for: ACHC\n",
      "[*********************100%***********************]  1 of 1 completed\n",
      "Failed to fetch data for ACHC: 'ACHC'\n",
      "Fetching data for: ACHL\n",
      "[*********************100%***********************]  1 of 1 completed"
     ]
    },
    {
     "name": "stderr",
     "output_type": "stream",
     "text": [
      "  1%|          | 65/7070 [00:03<05:59, 19.49it/s]"
     ]
    },
    {
     "name": "stdout",
     "output_type": "stream",
     "text": [
      "\n",
      "Failed to fetch data for ACHL: 'ACHL'\n",
      "Fetching data for: ACHR\n",
      "[*********************100%***********************]  1 of 1 completed\n",
      "Failed to fetch data for ACHR: 'ACHR'\n",
      "Fetching data for: ACHV\n",
      "[*********************100%***********************]  1 of 1 completed\n",
      "Failed to fetch data for ACHV: 'ACHV'\n",
      "Fetching data for: ACI\n",
      "[*********************100%***********************]  1 of 1 completed"
     ]
    },
    {
     "name": "stderr",
     "output_type": "stream",
     "text": [
      "  1%|          | 68/7070 [00:03<05:50, 19.98it/s]"
     ]
    },
    {
     "name": "stdout",
     "output_type": "stream",
     "text": [
      "\n",
      "Failed to fetch data for ACI: 'ACI'\n",
      "Fetching data for: ACIC\n",
      "[*********************100%***********************]  1 of 1 completed\n",
      "Failed to fetch data for ACIC: 'ACIC'\n",
      "Fetching data for: ACIU\n",
      "[*********************100%***********************]  1 of 1 completed"
     ]
    },
    {
     "name": "stderr",
     "output_type": "stream",
     "text": [
      "  1%|          | 70/7070 [00:04<06:20, 18.37it/s]"
     ]
    },
    {
     "name": "stdout",
     "output_type": "stream",
     "text": [
      "\n",
      "Failed to fetch data for ACIU: 'ACIU'\n",
      "Fetching data for: ACIW\n",
      "[*********************100%***********************]  1 of 1 completed\n",
      "Failed to fetch data for ACIW: 'ACIW'\n",
      "Fetching data for: ACLS\n",
      "[*********************100%***********************]  1 of 1 completed"
     ]
    },
    {
     "name": "stderr",
     "output_type": "stream",
     "text": [
      "  1%|          | 72/7070 [00:04<06:35, 17.71it/s]"
     ]
    },
    {
     "name": "stdout",
     "output_type": "stream",
     "text": [
      "\n",
      "Failed to fetch data for ACLS: 'ACLS'\n",
      "Fetching data for: ACLX\n",
      "[*********************100%***********************]  1 of 1 completed\n",
      "Failed to fetch data for ACLX: 'ACLX'\n",
      "Fetching data for: ACM\n",
      "[*********************100%***********************]  1 of 1 completed"
     ]
    },
    {
     "name": "stderr",
     "output_type": "stream",
     "text": [
      "  1%|          | 74/7070 [00:04<07:48, 14.92it/s]"
     ]
    },
    {
     "name": "stdout",
     "output_type": "stream",
     "text": [
      "\n",
      "Failed to fetch data for ACM: 'ACM'\n",
      "Fetching data for: ACMR\n",
      "[*********************100%***********************]  1 of 1 completed\n",
      "Failed to fetch data for ACMR: 'ACMR'\n",
      "Fetching data for: ACN\n",
      "[*********************100%***********************]  1 of 1 completed"
     ]
    },
    {
     "name": "stderr",
     "output_type": "stream",
     "text": [
      "  1%|          | 76/7070 [00:04<10:51, 10.73it/s]"
     ]
    },
    {
     "name": "stdout",
     "output_type": "stream",
     "text": [
      "\n",
      "Failed to fetch data for ACN: 'ACN'\n",
      "Fetching data for: ACNB\n",
      "[*********************100%***********************]  1 of 1 completed\n",
      "Failed to fetch data for ACNB: 'ACNB'\n",
      "Fetching data for: ACNT\n",
      "[*********************100%***********************]  1 of 1 completed"
     ]
    },
    {
     "name": "stderr",
     "output_type": "stream",
     "text": [
      "  1%|          | 78/7070 [00:04<10:46, 10.81it/s]"
     ]
    },
    {
     "name": "stdout",
     "output_type": "stream",
     "text": [
      "\n",
      "Fetching data for: ACON\n",
      "[*********************100%***********************]  1 of 1 completed\n",
      "Fetching data for: ACONW\n",
      "[*********************100%***********************]  1 of 1 completed"
     ]
    },
    {
     "name": "stderr",
     "output_type": "stream",
     "text": [
      "  1%|          | 80/7070 [00:05<10:40, 10.91it/s]"
     ]
    },
    {
     "name": "stdout",
     "output_type": "stream",
     "text": [
      "\n",
      "Fetching data for: ACP\n",
      "[*********************100%***********************]  1 of 1 completed\n",
      "Fetching data for: ACP^A\n",
      "[*********************100%***********************]  1 of 1 completed"
     ]
    },
    {
     "name": "stderr",
     "output_type": "stream",
     "text": [
      "  1%|          | 82/7070 [00:05<12:48,  9.10it/s]"
     ]
    },
    {
     "name": "stdout",
     "output_type": "stream",
     "text": [
      "\n",
      "\n",
      "1 Failed download:\n",
      "- ACP^A: No timezone found, symbol may be delisted\n",
      "Fetching data for: ACR\n",
      "[*********************100%***********************]  1 of 1 completed\n",
      "Fetching data for: ACR^C\n",
      "[*********************100%***********************]  1 of 1 completed"
     ]
    },
    {
     "name": "stderr",
     "output_type": "stream",
     "text": [
      "  1%|          | 84/7070 [00:05<12:47,  9.10it/s]"
     ]
    },
    {
     "name": "stdout",
     "output_type": "stream",
     "text": [
      "\n",
      "\n",
      "1 Failed download:\n",
      "- ACR^C: No timezone found, symbol may be delisted\n",
      "Fetching data for: ACR^D\n",
      "[*********************100%***********************]  1 of 1 completed\n",
      "\n",
      "1 Failed download:\n",
      "- ACR^D: No timezone found, symbol may be delisted\n",
      "Fetching data for: ACRE\n",
      "[*********************100%***********************]  1 of 1 completed"
     ]
    },
    {
     "name": "stderr",
     "output_type": "stream",
     "text": [
      "  1%|          | 86/7070 [00:05<12:35,  9.24it/s]"
     ]
    },
    {
     "name": "stdout",
     "output_type": "stream",
     "text": [
      "\n",
      "Fetching data for: ACRS\n",
      "[*********************100%***********************]  1 of 1 completed"
     ]
    },
    {
     "name": "stderr",
     "output_type": "stream",
     "text": [
      "  1%|          | 87/7070 [00:05<13:16,  8.77it/s]"
     ]
    },
    {
     "name": "stdout",
     "output_type": "stream",
     "text": [
      "\n",
      "Fetching data for: ACRV\n",
      "[*********************100%***********************]  1 of 1 completed"
     ]
    },
    {
     "name": "stderr",
     "output_type": "stream",
     "text": [
      "  1%|          | 88/7070 [00:06<13:00,  8.94it/s]"
     ]
    },
    {
     "name": "stdout",
     "output_type": "stream",
     "text": [
      "\n",
      "Fetching data for: ACST\n",
      "[*********************100%***********************]  1 of 1 completed"
     ]
    },
    {
     "name": "stderr",
     "output_type": "stream",
     "text": [
      "  1%|▏         | 89/7070 [00:06<13:03,  8.91it/s]"
     ]
    },
    {
     "name": "stdout",
     "output_type": "stream",
     "text": [
      "\n",
      "Fetching data for: ACT\n",
      "[*********************100%***********************]  1 of 1 completed"
     ]
    },
    {
     "name": "stderr",
     "output_type": "stream",
     "text": [
      "  1%|▏         | 90/7070 [00:06<12:52,  9.04it/s]"
     ]
    },
    {
     "name": "stdout",
     "output_type": "stream",
     "text": [
      "\n",
      "Fetching data for: ACTG\n",
      "[*********************100%***********************]  1 of 1 completed"
     ]
    },
    {
     "name": "stderr",
     "output_type": "stream",
     "text": [
      "  1%|▏         | 91/7070 [00:06<14:18,  8.13it/s]"
     ]
    },
    {
     "name": "stdout",
     "output_type": "stream",
     "text": [
      "\n",
      "Fetching data for: ACU\n",
      "[*********************100%***********************]  1 of 1 completed"
     ]
    },
    {
     "name": "stderr",
     "output_type": "stream",
     "text": [
      "  1%|▏         | 92/7070 [00:06<21:04,  5.52it/s]"
     ]
    },
    {
     "name": "stdout",
     "output_type": "stream",
     "text": [
      "\n",
      "Fetching data for: ACV\n",
      "[*********************100%***********************]  1 of 1 completed"
     ]
    },
    {
     "name": "stderr",
     "output_type": "stream",
     "text": [
      "  1%|▏         | 93/7070 [00:06<19:13,  6.05it/s]"
     ]
    },
    {
     "name": "stdout",
     "output_type": "stream",
     "text": [
      "\n",
      "Fetching data for: ACVA\n",
      "[*********************100%***********************]  1 of 1 completed"
     ]
    },
    {
     "name": "stderr",
     "output_type": "stream",
     "text": [
      "  1%|▏         | 94/7070 [00:06<17:20,  6.71it/s]"
     ]
    },
    {
     "name": "stdout",
     "output_type": "stream",
     "text": [
      "\n",
      "Fetching data for: ACXP\n",
      "[*********************100%***********************]  1 of 1 completed"
     ]
    },
    {
     "name": "stderr",
     "output_type": "stream",
     "text": [
      "  1%|▏         | 95/7070 [00:07<16:27,  7.06it/s]"
     ]
    },
    {
     "name": "stdout",
     "output_type": "stream",
     "text": [
      "\n",
      "Fetching data for: ADAG\n",
      "[*********************100%***********************]  1 of 1 completed"
     ]
    },
    {
     "name": "stderr",
     "output_type": "stream",
     "text": [
      "  1%|▏         | 96/7070 [00:07<15:20,  7.58it/s]"
     ]
    },
    {
     "name": "stdout",
     "output_type": "stream",
     "text": [
      "\n",
      "Fetching data for: ADAP\n",
      "[*********************100%***********************]  1 of 1 completed"
     ]
    },
    {
     "name": "stderr",
     "output_type": "stream",
     "text": [
      "  1%|▏         | 97/7070 [00:07<16:06,  7.21it/s]"
     ]
    },
    {
     "name": "stdout",
     "output_type": "stream",
     "text": [
      "\n",
      "Fetching data for: ADBE\n",
      "[*********************100%***********************]  1 of 1 completed"
     ]
    },
    {
     "name": "stderr",
     "output_type": "stream",
     "text": [
      "  1%|▏         | 98/7070 [00:07<16:19,  7.12it/s]"
     ]
    },
    {
     "name": "stdout",
     "output_type": "stream",
     "text": [
      "\n",
      "Fetching data for: ADC\n",
      "[*********************100%***********************]  1 of 1 completed"
     ]
    },
    {
     "name": "stderr",
     "output_type": "stream",
     "text": [
      "  1%|▏         | 99/7070 [00:07<17:22,  6.69it/s]"
     ]
    },
    {
     "name": "stdout",
     "output_type": "stream",
     "text": [
      "\n",
      "Fetching data for: ADC^A\n",
      "[*********************100%***********************]  1 of 1 completed\n",
      "\n",
      "1 Failed download:\n",
      "- ADC^A: No timezone found, symbol may be delisted\n",
      "Fetching data for: ADCT\n",
      "[*********************100%***********************]  1 of 1 completed"
     ]
    },
    {
     "name": "stderr",
     "output_type": "stream",
     "text": [
      "  1%|▏         | 101/7070 [00:07<14:19,  8.11it/s]"
     ]
    },
    {
     "name": "stdout",
     "output_type": "stream",
     "text": [
      "\n",
      "Fetching data for: ADD\n",
      "[*********************100%***********************]  1 of 1 completed"
     ]
    },
    {
     "name": "stderr",
     "output_type": "stream",
     "text": [
      "  1%|▏         | 102/7070 [00:07<13:54,  8.35it/s]"
     ]
    },
    {
     "name": "stdout",
     "output_type": "stream",
     "text": [
      "\n",
      "Fetching data for: ADEA\n",
      "[*********************100%***********************]  1 of 1 completed"
     ]
    },
    {
     "name": "stderr",
     "output_type": "stream",
     "text": [
      "  1%|▏         | 103/7070 [00:08<14:09,  8.20it/s]"
     ]
    },
    {
     "name": "stdout",
     "output_type": "stream",
     "text": [
      "\n",
      "Fetching data for: ADI\n",
      "[*********************100%***********************]  1 of 1 completed"
     ]
    },
    {
     "name": "stderr",
     "output_type": "stream",
     "text": [
      "  1%|▏         | 104/7070 [00:08<15:38,  7.42it/s]"
     ]
    },
    {
     "name": "stdout",
     "output_type": "stream",
     "text": [
      "\n",
      "Fetching data for: ADIL\n",
      "[*********************100%***********************]  1 of 1 completed"
     ]
    },
    {
     "name": "stderr",
     "output_type": "stream",
     "text": [
      "  1%|▏         | 105/7070 [00:08<15:16,  7.60it/s]"
     ]
    },
    {
     "name": "stdout",
     "output_type": "stream",
     "text": [
      "\n",
      "Fetching data for: ADM\n"
     ]
    },
    {
     "name": "stderr",
     "output_type": "stream",
     "text": [
      "  1%|▏         | 105/7070 [00:08<09:38, 12.03it/s]\n"
     ]
    },
    {
     "ename": "KeyboardInterrupt",
     "evalue": "",
     "output_type": "error",
     "traceback": [
      "\u001b[1;31m---------------------------------------------------------------------------\u001b[0m",
      "\u001b[1;31mKeyboardInterrupt\u001b[0m                         Traceback (most recent call last)",
      "Cell \u001b[1;32mIn[26], line 15\u001b[0m\n\u001b[0;32m     13\u001b[0m \u001b[38;5;28mprint\u001b[39m(\u001b[38;5;124mf\u001b[39m\u001b[38;5;124m\"\u001b[39m\u001b[38;5;124mFetching data for: \u001b[39m\u001b[38;5;132;01m{\u001b[39;00mticker\u001b[38;5;132;01m}\u001b[39;00m\u001b[38;5;124m\"\u001b[39m)\n\u001b[0;32m     14\u001b[0m \u001b[38;5;28;01mtry\u001b[39;00m:\n\u001b[1;32m---> 15\u001b[0m     data \u001b[38;5;241m=\u001b[39m \u001b[43mfetch_stock_data\u001b[49m\u001b[43m(\u001b[49m\u001b[43mticker\u001b[49m\u001b[43m)\u001b[49m\n\u001b[0;32m     16\u001b[0m     all_data[ticker] \u001b[38;5;241m=\u001b[39m data\n\u001b[0;32m     17\u001b[0m     \u001b[38;5;66;03m# Optionally save data to CSV (comment out if not needed)\u001b[39;00m\n",
      "Cell \u001b[1;32mIn[20], line 8\u001b[0m, in \u001b[0;36mfetch_stock_data\u001b[1;34m(ticker)\u001b[0m\n\u001b[0;32m      5\u001b[0m start_date \u001b[38;5;241m=\u001b[39m end_date \u001b[38;5;241m-\u001b[39m timedelta(days\u001b[38;5;241m=\u001b[39m\u001b[38;5;241m365\u001b[39m\u001b[38;5;241m*\u001b[39m\u001b[38;5;241m5\u001b[39m)\n\u001b[0;32m      7\u001b[0m \u001b[38;5;66;03m# Fetch historical data\u001b[39;00m\n\u001b[1;32m----> 8\u001b[0m data \u001b[38;5;241m=\u001b[39m \u001b[43myf\u001b[49m\u001b[38;5;241;43m.\u001b[39;49m\u001b[43mdownload\u001b[49m\u001b[43m(\u001b[49m\u001b[43mticker\u001b[49m\u001b[43m,\u001b[49m\u001b[43m \u001b[49m\u001b[43mstart\u001b[49m\u001b[38;5;241;43m=\u001b[39;49m\u001b[43mstart_date\u001b[49m\u001b[38;5;241;43m.\u001b[39;49m\u001b[43mstrftime\u001b[49m\u001b[43m(\u001b[49m\u001b[38;5;124;43m'\u001b[39;49m\u001b[38;5;124;43m%\u001b[39;49m\u001b[38;5;124;43mY-\u001b[39;49m\u001b[38;5;124;43m%\u001b[39;49m\u001b[38;5;124;43mm-\u001b[39;49m\u001b[38;5;132;43;01m%d\u001b[39;49;00m\u001b[38;5;124;43m'\u001b[39;49m\u001b[43m)\u001b[49m\u001b[43m,\u001b[49m\u001b[43m \u001b[49m\u001b[43mend\u001b[49m\u001b[38;5;241;43m=\u001b[39;49m\u001b[43mend_date\u001b[49m\u001b[38;5;241;43m.\u001b[39;49m\u001b[43mstrftime\u001b[49m\u001b[43m(\u001b[49m\u001b[38;5;124;43m'\u001b[39;49m\u001b[38;5;124;43m%\u001b[39;49m\u001b[38;5;124;43mY-\u001b[39;49m\u001b[38;5;124;43m%\u001b[39;49m\u001b[38;5;124;43mm-\u001b[39;49m\u001b[38;5;132;43;01m%d\u001b[39;49;00m\u001b[38;5;124;43m'\u001b[39;49m\u001b[43m)\u001b[49m\u001b[43m)\u001b[49m\n\u001b[0;32m      9\u001b[0m \u001b[38;5;28;01mreturn\u001b[39;00m data\n",
      "File \u001b[1;32m~\\AppData\\Roaming\\Python\\Python310\\site-packages\\yfinance\\multi.py:129\u001b[0m, in \u001b[0;36mdownload\u001b[1;34m(tickers, start, end, actions, threads, ignore_tz, group_by, auto_adjust, back_adjust, repair, keepna, progress, period, show_errors, interval, prepost, proxy, rounding, timeout)\u001b[0m\n\u001b[0;32m    122\u001b[0m         _download_one_threaded(ticker, period\u001b[38;5;241m=\u001b[39mperiod, interval\u001b[38;5;241m=\u001b[39minterval,\n\u001b[0;32m    123\u001b[0m                                start\u001b[38;5;241m=\u001b[39mstart, end\u001b[38;5;241m=\u001b[39mend, prepost\u001b[38;5;241m=\u001b[39mprepost,\n\u001b[0;32m    124\u001b[0m                                actions\u001b[38;5;241m=\u001b[39mactions, auto_adjust\u001b[38;5;241m=\u001b[39mauto_adjust,\n\u001b[0;32m    125\u001b[0m                                back_adjust\u001b[38;5;241m=\u001b[39mback_adjust, repair\u001b[38;5;241m=\u001b[39mrepair, keepna\u001b[38;5;241m=\u001b[39mkeepna,\n\u001b[0;32m    126\u001b[0m                                progress\u001b[38;5;241m=\u001b[39m(progress \u001b[38;5;129;01mand\u001b[39;00m i \u001b[38;5;241m>\u001b[39m \u001b[38;5;241m0\u001b[39m), proxy\u001b[38;5;241m=\u001b[39mproxy,\n\u001b[0;32m    127\u001b[0m                                rounding\u001b[38;5;241m=\u001b[39mrounding, timeout\u001b[38;5;241m=\u001b[39mtimeout)\n\u001b[0;32m    128\u001b[0m     \u001b[38;5;28;01mwhile\u001b[39;00m \u001b[38;5;28mlen\u001b[39m(shared\u001b[38;5;241m.\u001b[39m_DFS) \u001b[38;5;241m<\u001b[39m \u001b[38;5;28mlen\u001b[39m(tickers):\n\u001b[1;32m--> 129\u001b[0m         \u001b[43m_time\u001b[49m\u001b[38;5;241;43m.\u001b[39;49m\u001b[43msleep\u001b[49m\u001b[43m(\u001b[49m\u001b[38;5;241;43m0.01\u001b[39;49m\u001b[43m)\u001b[49m\n\u001b[0;32m    131\u001b[0m \u001b[38;5;66;03m# download synchronously\u001b[39;00m\n\u001b[0;32m    132\u001b[0m \u001b[38;5;28;01melse\u001b[39;00m:\n\u001b[0;32m    133\u001b[0m     \u001b[38;5;28;01mfor\u001b[39;00m i, ticker \u001b[38;5;129;01min\u001b[39;00m \u001b[38;5;28menumerate\u001b[39m(tickers):\n",
      "\u001b[1;31mKeyboardInterrupt\u001b[0m: "
     ]
    }
   ],
   "source": [
    "# Load ticker symbols\n",
    "tickers = load_tickers('nasdaq_screener.csv')\n",
    "\n",
    "# Create a subfolder for the financial data\n",
    "output_dir = 'fin_data'\n",
    "os.makedirs(output_dir, exist_ok=True)\n",
    "\n",
    "# Dictionary to hold data for all tickers\n",
    "all_data = {}\n",
    "\n",
    "# Loop through each ticker and fetch its data\n",
    "for ticker in tqdm(tickers):\n",
    "    #print(f\"Fetching data for: {ticker}\")\n",
    "    try:\n",
    "        data = fetch_stock_data(ticker)\n",
    "        all_data[ticker] = data\n",
    "        # Optionally save data to CSV (comment out if not needed)\n",
    "        data.to_csv(os.path.join(output_dir, f'{ticker}_10_years_data.csv'))\n",
    "    except Exception as e:\n",
    "        print(f\"Failed to fetch data for {ticker}: {e}\")\n",
    "\n",
    "# Example of how to access data for a specific ticker in memory\n",
    "# print(all_data['AAPL'])  # Uncomment to print AAPL data"
   ]
  },
  {
   "cell_type": "code",
   "execution_count": null,
   "metadata": {},
   "outputs": [],
   "source": []
  }
 ],
 "metadata": {
  "kernelspec": {
   "display_name": "Python 3",
   "language": "python",
   "name": "python3"
  },
  "language_info": {
   "codemirror_mode": {
    "name": "ipython",
    "version": 3
   },
   "file_extension": ".py",
   "mimetype": "text/x-python",
   "name": "python",
   "nbconvert_exporter": "python",
   "pygments_lexer": "ipython3",
   "version": "3.10.10"
  }
 },
 "nbformat": 4,
 "nbformat_minor": 2
}
